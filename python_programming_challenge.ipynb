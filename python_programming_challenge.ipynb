{
 "cells": [
  {
   "cell_type": "markdown",
   "metadata": {},
   "source": [
    "# Python Programming Challenge\n",
    "\n",
    "## Poker Hand\n",
    "\n",
    "In this challenge, we have to determine which kind of Poker combination is present in a deck of 5 cards. Every card is a string containing the card value **with the upper-case initial for face-cards** and the **lower-case initial for the suit**, as seen in the examples below:\n",
    "\n",
    "> \"Ah\" ➞ Ace of hearts <br>\n",
    "> \"Ks\" ➞ King of spades<br>\n",
    "> \"3d\" ➞ Three of diamonds<br>\n",
    "> \"Qc\" ➞ Queen of clubs <br>\n",
    "\n",
    "There are 10 different combinations. Here's the list, in descending order of importance:"
   ]
  },
  {
   "cell_type": "markdown",
   "metadata": {},
   "source": [
    "| Name            | Description                                         |\n",
    "|-----------------|-----------------------------------------------------|\n",
    "| Royal Flush     | A, K, Q, J, 10, all with the same suit.             |\n",
    "| Straight Flush  | Five cards in sequence, all with the same suit.     |\n",
    "| Four of a Kind  | Four cards of the same rank.                        |\n",
    "| Full House      | Three of a Kind with a Pair.                        |\n",
    "| Flush           | Any five cards of the same suit, not in sequence    |\n",
    "| Straight        | Five cards in a sequence, but not of the same suit. |\n",
    "| Three of a Kind | Three cards of the same rank.                       |\n",
    "| Two Pair        | Two different Pairs.                                |\n",
    "| Pair            | Two cards of the same rank.                         |\n",
    "| High Card       | No other valid combination.                         |\n",
    "\n",
    "---------"
   ]
  },
  {
   "cell_type": "markdown",
   "metadata": {},
   "source": [
    "#### 1. Given a list `hand` containing five strings being the cards. Implement a function called `poker_hand_ranking` that **returns a string with the name of the highest combination obtained.** According to the table above.\n",
    "\n",
    "**Examples:**\n",
    "\n",
    "> poker_hand_ranking([\"10h\", \"Jh\", \"Qh\", \"Ah\", \"Kh\"]) ➞ \"Royal Flush\"<br>\n",
    "> poker_hand_ranking([\"3h\", \"5h\", \"Qs\", \"9h\", \"Ad\"]) ➞ \"High Card\"<br>\n",
    "> poker_hand_ranking([\"10s\", \"10c\", \"8d\", \"10d\", \"10h\"]) ➞ \"Four of a Kind\"<br>"
   ]
  },
  {
   "cell_type": "code",
   "execution_count": null,
   "metadata": {},
   "outputs": [
    {
     "name": "stdout",
     "output_type": "stream",
     "text": [
      "Full House\n",
      "Hand 1 is a flush: True\n",
      "Hand 2 is a flush: False\n",
      "Hand 1 is a straight: False\n",
      "Hand 2 is a straight: True\n",
      "Hand 1 is a pair: Counter({'5': 1, '3': 1, '9': 1, 'K': 1, '2': 1})\n",
      "Hand 2 is a pair: Counter({'5': 1, '3': 1, '7': 1, '4': 1, '6': 1})\n"
     ]
    }
   ],
   "source": [
       "from collections import Counter\n",
       "\n",
       "# Check if all cards are of the same suit\n",
       "def flush(hand):\n",
       "    suits = [card[-1] for card in hand]\n",
       "    return len(set(suits)) == 1\n",
       "\n",
       "# Checks for a straight run\n",
       "def straight(hand):\n",
       "    ranks = sorted([card[:-1] for card in hand], key=lambda x: '23456789TJQKA'.index(x))\n",
       "    return ranks == [ranks[0]] + [str(int(ranks[0]) + i) for i in range(1, 5)]\n",
       "\n",
       "# Checks for multiples of the same type of card\n",
       "def get_card_type_count(hand):\n",
       "    return Counter([card[:-1] for card in hand])\n",
       "\n",
       "# Determines best hand combination\n",
       "def poker_hand_ranking(hand):\n",
       "    \n",
       "    # Sort the hand by type\n",
       "    card_type_count = get_card_type_count(hand)\n",
       "    sorted_card_type_count = sorted(card_type_count.items(), key=lambda x: (-x[1], '23456789TJQKA'.index(x[0])))\n",
       "\n",
       "    # Check for combinations\n",
       "    if flush(hand) and straight(hand):\n",
       "        ranks_in_hand = sorted([card[:-1] for card in hand], key=lambda x: '23456789TJQKA'.index(x))\n",
       "        if ranks_in_hand == ['10', 'J', 'Q', 'K', 'A']:\n",
       "            return \"Royal Flush\"\n",
       "        return \"Straight Flush\"\n",
       "\n",
       "    if sorted_card_type_count[0][1] == 4:\n",
       "        return \"Four of a Kind\"\n",
       "\n",
       "    if sorted_card_type_count[0][1] == 3 and sorted_card_type_count[1][1] == 2:\n",
       "        return \"Full House\"\n",
       "\n",
       "    if flush(hand):\n",
       "        return \"Flush\"\n",
       "\n",
       "    if straight(hand):\n",
       "        return \"Straight\"  \n",
       "\n",
       "    if sorted_card_type_count[0][1] == 3:\n",
       "        return \"Three of a Kind\"\n",
       "\n",
       "    if sorted_card_type_count[0][1] == 2 and sorted_card_type_count[1][1] == 2:\n",
       "        return \"Two Pair\"\n",
       "\n",
       "    if sorted_card_type_count[0][1] == 2:\n",
       "        return \"Pair\"\n",
       "    \n",
       "    return \"High Card\"\n",
       "\n",
       "hand = ['5H', '5D', '6S', '6C', '6H']\n",
       "hand1 = ['5H', '3H', '9H', 'KH', '2H']  # All Hearts, should be a flush\n",
       "hand2 = ['5H', '3H', '7H', '4C', '6H']  # Mixed suits, should not be a flush\n",
       "hand3 = ['5H', '5D', '7H', '4C', '6H']  # Mixed suits, should not be a flush\n",
       "\n",
       "print(poker_hand_ranking(hand))\n",
       "print(\"Hand 1 is a flush:\", flush(hand1))  # Output: True\n",
       "print(\"Hand 2 is a flush:\", flush(hand2))\n",
       "print(\"Hand 1 is a straight:\", straight(hand1))  # Output: True\n",
       "print(\"Hand 2 is a straight:\", straight(hand2))\n",
       "print(\"Hand 1 is a pair:\", get_card_type_count(hand1))  # Output: True\n",
       "print(\"Hand 2 is a pair:\", get_card_type_count(hand2))\n"
   ]
  },
  {
   "cell_type": "markdown",
   "metadata": {},
   "source": [
    "------------\n",
    "### **Stretch Content**\n",
    "\n",
    "#### 2.  Implement a function `winner_is` that returns the winner given a dictionary with different players and their hands. \n",
    "**Example**\n",
    "\n",
    "We define dictionary like\n",
    "```python\n",
    "round_1 = {\"John\" = [\"10h\", \"Jh\", \"Qh\", \"Ah\", \"Kh\"], \n",
    "        \"Peter\" = [\"3h\", \"5h\", \"Qs\", \"9h\", \"Ad\"]}\n",
    "```\n",
    "\n",
    "Our function returns the name of the winner:\n",
    "> winner_is(round_1) --> \"John\"\n",
    "\n",
    "One table can have up to 10 players.\n"
   ]
  },
  {
   "cell_type": "code",
   "execution_count": null,
   "metadata": {},
   "outputs": [
       {
           "name": "stdout",
           "output_type": "stream",
           "text": [
               "The winner of the hand is Chelsea, with a Royal Flush!\n"
           ]
       }
   ],
   "source": [
    "def winner_is(game_round):\n",
    "    \"\"\"\n",
    "    Finds the winner of a hand of poker, up to max 10 players.\n",
    "    \n",
    "    Arguments:\n",
    "        game_round (dict): A dictionary where keys are player names, and values are their hands.\n",
    "        \n",
    "    Returns:\n",
    "        The name of the winner as a string\n",
    "    \"\"\"\n",
    "    \n",
    "    hand_rankings = [\n",
    "        \"High Card\", \"Pair\", \"Two Pair\", \"Three of a Kind\", \"Straight\",\n",
    "        \"Flush\", \"Full House\", \"Four of a Kind\", \"Straight Flush\",\n",
    "        \"Royal Flush\"\n",
    "        ]\n",
    "\n",
    "    def hand_rank_value(hand):\n",
    "        \"\"\"Returns the rank of a players hand\"\"\"\n",
    "        rank = poker_hand_ranking(hand)\n",
    "        return hand_rankings.index(rank)\n",
    "\n",
    "    # Determine which player had the best hand.\n",
    "    winner = max(game_round, key=lambda player: hand_rank_value(game_round[player]))\n",
    "    return winner\n",
    "\n",
    "    \n",
    "    \n",
    "round_1 = {\"John\" : [\"As\", \"Ks\", \"Js\", \"4s\", \"2s\"],\n",
    "        \"Peter\" : [\"5d\", \"6d\", \"7d\", \"9d\", \"Ts\"],\n",
    "        \"Colter\": [\"9d\", \"Kd\", \"Jd\", \"Td\", \"Qd\"],\n",
    "        \"Chelsea\": [\"Ah\", \"Kh\", \"Jh\", \"Th\", \"Qh\"]\n",
    "          }\n",
    "\n",
    "winner = winner_is(round_1)\n",
    "winning_hand = round_1[winner]\n",
    "winning_hand_name = poker_hand_ranking(winning_hand)\n",
    "\n",
    "print(f\"The winner of the hand is {winner_is(round_1)}, with a {winning_hand_name}!\")"
   ]
  },
  {
   "cell_type": "markdown",
   "metadata": {},
   "source": [
    "#### 3. Create a function `distribute_cards` that randomly generates and gives 5 cards to every player given a list of player names.\n",
    "\n",
    "**Example**\n",
    "\n",
    "> distribute_cards([\"John\",\"Peter\"])  -> round_1 = {\"John\" = [\"10h\", \"Jh\", \"Qh\", \"Ah\", \"Kh\"], \n",
    "        \"Peter\" = [\"3h\", \"5h\", \"Qs\", \"9h\", \"Ad\"]\n",
    "}"
   ]
  },
  {
   "cell_type": "code",
   "execution_count": null,
   "metadata": {},
   "outputs": [],
   "source": []
  },
  {
   "cell_type": "code",
   "execution_count": null,
   "metadata": {},
   "outputs": [],
   "source": []
  },
  {
   "cell_type": "code",
   "execution_count": null,
   "metadata": {},
   "outputs": [],
   "source": []
  },
  {
   "cell_type": "code",
   "execution_count": null,
   "metadata": {},
   "outputs": [],
   "source": []
  }
 ],
 "metadata": {
  "kernelspec": {
   "display_name": "Python 3",
   "language": "python",
   "name": "python3"
  },
  "language_info": {
   "codemirror_mode": {
    "name": "ipython",
    "version": 3
   },
   "file_extension": ".py",
   "mimetype": "text/x-python",
   "name": "python",
   "nbconvert_exporter": "python",
   "pygments_lexer": "ipython3",
   "version": "3.7.9"
  }
 },
 "nbformat": 4,
 "nbformat_minor": 4
}
